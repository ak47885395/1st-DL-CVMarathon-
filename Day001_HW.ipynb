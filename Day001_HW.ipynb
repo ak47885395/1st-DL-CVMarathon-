{
 "cells": [
  {
   "cell_type": "code",
   "execution_count": 12,
   "metadata": {},
   "outputs": [
    {
     "ename": "SyntaxError",
     "evalue": "invalid syntax (<ipython-input-12-26e0a4f5c288>, line 28)",
     "output_type": "error",
     "traceback": [
      "\u001b[1;36m  File \u001b[1;32m\"<ipython-input-12-26e0a4f5c288>\"\u001b[1;36m, line \u001b[1;32m28\u001b[0m\n\u001b[1;33m    fh=open('./Data/Homework.txt' , \"r\")\u001b[0m\n\u001b[1;37m     ^\u001b[0m\n\u001b[1;31mSyntaxError\u001b[0m\u001b[1;31m:\u001b[0m invalid syntax\n"
     ]
    }
   ],
   "source": [
    "#根據需求引入正確的 Library\n",
    "from urllib.request import urlretrieve \n",
    "import os\n",
    "\n",
    "#下載檔案到 Data 資料夾，存成檔名 Homework.txt\n",
    "try :\n",
    "    os.makedirs( './Data' ,exist_ok =True )\n",
    "    urlretrieve(\"https://www.w3.org/TR/PNG/iso_8859-1.txt\" ,\"./Data/Homework.txt\")\n",
    "except : \n",
    "        print(\"error\")\n",
    "\n",
    "#檢查 Data 資料夾是否有 Homework.txt 檔名之檔案\n",
    "files = os.listdir('./Data')\n",
    "\n",
    "if (\"Homework.txt\") in files:\n",
    "    print ('O Data 資料夾有 Homework.txt 檔名之檔案')\n",
    "else : \n",
    "    print ('X Data 資料夾沒有 Homework.txt 檔名之檔案')\n",
    "\n",
    "#將「Hello World」字串覆寫到 Homework.txt 檔案\n",
    "with open('./Data/Homework.txt' , \"w\") as fh:\n",
    "    fh.write('Hello World') \n",
    "try: \n",
    "        with open('./Data/Homework.txt' , \"r\") as fh:\n",
    "            print(fh.readlines()) \n",
    "  #  except EnvironmentError: # parent of IOError, OSError and WindowsError where available\n",
    "     #   pass\n",
    "fh=open('./Data/Homework.txt' , \"r\") \n",
    "fh_text=fh.read() \n",
    "print(len(fh_text))\n",
    "if len('Hello World') == len(fh_text): \n",
    "        print('[O] 檢查 Homework.txt 檔案字數是否符合 Hello World 字數') \n",
    "else: \n",
    "        print('[X] 檢查 Homework.txt 檔案字數是否符合 Hello World 字數')"
   ]
  },
  {
   "cell_type": "code",
   "execution_count": null,
   "metadata": {},
   "outputs": [],
   "source": []
  }
 ],
 "metadata": {
  "kernelspec": {
   "display_name": "Python 3",
   "language": "python",
   "name": "python3"
  },
  "language_info": {
   "codemirror_mode": {
    "name": "ipython",
    "version": 3
   },
   "file_extension": ".py",
   "mimetype": "text/x-python",
   "name": "python",
   "nbconvert_exporter": "python",
   "pygments_lexer": "ipython3",
   "version": "3.7.6"
  }
 },
 "nbformat": 4,
 "nbformat_minor": 4
}
